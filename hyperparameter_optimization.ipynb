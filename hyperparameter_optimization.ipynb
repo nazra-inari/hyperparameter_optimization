{
 "cells": [
  {
   "cell_type": "markdown",
   "metadata": {
    "toc": true
   },
   "source": [
    "<h1>Table of Contents<span class=\"tocSkip\"></span></h1>\n",
    "<div class=\"toc\"><ul class=\"toc-item\"><li><span><a href=\"#What-are-Hyperparameters?\" data-toc-modified-id=\"What-are-Hyperparameters?-1\">What are Hyperparameters?</a></span></li><li><span><a href=\"#Examples-and-types-of-Hyperparameters\" data-toc-modified-id=\"Examples-and-types-of-Hyperparameters-2\">Examples and types of Hyperparameters</a></span></li><li><span><a href=\"#Which-hyperparameters-should-you-tune?\" data-toc-modified-id=\"Which-hyperparameters-should-you-tune?-3\">Which hyperparameters should you tune?</a></span></li><li><span><a href=\"#How-do-you-tune-hyperparameters?\" data-toc-modified-id=\"How-do-you-tune-hyperparameters?-4\">How do you tune hyperparameters?</a></span></li><li><span><a href=\"#The-challenge-of-hyperparameter-tuning\" data-toc-modified-id=\"The-challenge-of-hyperparameter-tuning-5\">The challenge of hyperparameter tuning</a></span></li><li><span><a href=\"#Tuning-Strategies\" data-toc-modified-id=\"Tuning-Strategies-6\">Tuning Strategies</a></span></li><li><span><a href=\"#Load--and-split-the-data\" data-toc-modified-id=\"Load--and-split-the-data-7\">Load  and split the data</a></span></li><li><span><a href=\"#Train-a-base-model\" data-toc-modified-id=\"Train-a-base-model-8\">Train a base model</a></span></li><li><span><a href=\"#Isolated-Experimental-Based-Hyperparameter-Optimization\" data-toc-modified-id=\"Isolated-Experimental-Based-Hyperparameter-Optimization-9\">Isolated Experimental Based Hyperparameter Optimization</a></span><ul class=\"toc-item\"><li><span><a href=\"#Single-Validation-Set\" data-toc-modified-id=\"Single-Validation-Set-9.1\">Single Validation Set</a></span><ul class=\"toc-item\"><li><span><a href=\"#Tuning-max_depth\" data-toc-modified-id=\"Tuning-max_depth-9.1.1\">Tuning max_depth</a></span><ul class=\"toc-item\"><li><span><a href=\"#Visualize-the-results\" data-toc-modified-id=\"Visualize-the-results-9.1.1.1\">Visualize the results</a></span></li></ul></li><li><span><a href=\"#Tuning-min_samples_split\" data-toc-modified-id=\"Tuning-min_samples_split-9.1.2\">Tuning min_samples_split</a></span><ul class=\"toc-item\"><li><span><a href=\"#Visualize-the-results\" data-toc-modified-id=\"Visualize-the-results-9.1.2.1\">Visualize the results</a></span></li></ul></li></ul></li><li><span><a href=\"#k-Fold-Cross-Validation\" data-toc-modified-id=\"k-Fold-Cross-Validation-9.2\">k-Fold Cross Validation</a></span><ul class=\"toc-item\"><li><span><a href=\"#Tuning-max_depth\" data-toc-modified-id=\"Tuning-max_depth-9.2.1\">Tuning max_depth</a></span><ul class=\"toc-item\"><li><span><a href=\"#Visualize-the-results\" data-toc-modified-id=\"Visualize-the-results-9.2.1.1\">Visualize the results</a></span></li></ul></li><li><span><a href=\"#Tuning-min_samples_split\" data-toc-modified-id=\"Tuning-min_samples_split-9.2.2\">Tuning min_samples_split</a></span><ul class=\"toc-item\"><li><span><a href=\"#Visualize-the-results\" data-toc-modified-id=\"Visualize-the-results-9.2.2.1\">Visualize the results</a></span></li></ul></li><li><span><a href=\"#Tuning-multiple-hyperparatmeters-simultaneously\" data-toc-modified-id=\"Tuning-multiple-hyperparatmeters-simultaneously-9.2.3\">Tuning multiple hyperparatmeters simultaneously</a></span><ul class=\"toc-item\"><li><span><a href=\"#Visualize-the-results\" data-toc-modified-id=\"Visualize-the-results-9.2.3.1\">Visualize the results</a></span></li></ul></li></ul></li><li><span><a href=\"#Grid-Search\" data-toc-modified-id=\"Grid-Search-9.3\">Grid Search</a></span></li><li><span><a href=\"#Random-Search\" data-toc-modified-id=\"Random-Search-9.4\">Random Search</a></span></li></ul></li><li><span><a href=\"#Sequential-Model-Based-Optimization-(SMBO)\" data-toc-modified-id=\"Sequential-Model-Based-Optimization-(SMBO)-10\">Sequential Model Based Optimization (SMBO)</a></span><ul class=\"toc-item\"><li><span><a href=\"#Bayesian-Optimization\" data-toc-modified-id=\"Bayesian-Optimization-10.1\">Bayesian Optimization</a></span><ul class=\"toc-item\"><li><span><a href=\"#Surrogate-Model\" data-toc-modified-id=\"Surrogate-Model-10.1.1\">Surrogate Model</a></span></li><li><span><a href=\"#Acquisition-or-Selection-Function\" data-toc-modified-id=\"Acquisition-or-Selection-Function-10.1.2\">Acquisition or Selection Function</a></span></li><li><span><a href=\"#How-does-it-work?\" data-toc-modified-id=\"How-does-it-work?-10.1.3\">How does it work?</a></span></li><li><span><a href=\"#Visualizing-Bayesian-Optimization-\" data-toc-modified-id=\"Visualizing-Bayesian-Optimization--10.1.4\">Visualizing Bayesian Optimization <br></a></span></li><li><span><a href=\"#Example-of-Bayesian-Optimization\" data-toc-modified-id=\"Example-of-Bayesian-Optimization-10.1.5\">Example of Bayesian Optimization</a></span></li></ul></li></ul></li></ul></div>"
   ]
  },
  {
   "cell_type": "markdown",
   "metadata": {},
   "source": [
    "Hyperparameter optimization is a crucial skill required to train a good machine learning model. Like feature engineering and feature selection, hyperparameter optimization is another step on the data-science workflow that requires and benefits from manual human intervention. This post will build up from defining hyperparameters and the different types that are out there and move on to the methods we have in our toolkit to try and select the best values for them."
   ]
  },
  {
   "cell_type": "markdown",
   "metadata": {},
   "source": [
    "# What are Hyperparameters?   \n",
    "Unlike the parameters of a machine learning model, which are learned during the training process, hyperparamters cannot be learned from the training data. Model parameters are learned by trying to minimize a loss function while using an algorithm like [gradient descent](https://arxiv.org/pdf/1609.04747.pdf). A hyperparameter of the model is a variable whose value is set before the learning/training process begins. Furthermore, the parameters of a model decide how the data of fed into the algorithm needs to be transformed, while the hyperparameters govern the actual architecture of the model.\n",
    "\n",
    "In simple terms, a hyperparameter is a value that cannot be automatically learned and will act like knobs on an equalizer that allow you set and dictate the mechanism and composition of the machine learning model you are trying to train.\n",
    "\n",
    "\n",
    "# Examples and types of Hyperparameters\n",
    "The values of a hyperparameter are set when the model is initialized and before the training process begins. In sklearn, hyperparameters are passed in as arguments to the constructor of the model classes. Hyperparameters can be numerical (discrete or continuous) or categorical in nature. \n",
    "\n",
    "**Examples of Hyperparameters**  \n",
    "Numerical\n",
    "<ul>\n",
    "<li> The degree of polynomial features to use in a linear model\n",
    "<li> The maximum depth of a decision tree\n",
    "<li> The minimum number of samples required in a leaf node in a decision tree\n",
    "<li> The number of trees to include in a random forest\n",
    "<li> The number of layers to have in a neural network\n",
    "<li> The learning rate of the gradient descent algorithm\n",
    "</ul>\n",
    "\n",
    "Categorical\n",
    "<ul>\n",
    "<li> The criterion to evaluate the best split at a node in a decision tree\n",
    "<li> The type of regularization/penalty (L1, L2, Ridge) to use in a regression model\n",
    "<li> The type of weight balancing to use in classification model with imbalanced data\n",
    "</ul>\n",
    "\n",
    "# Which hyperparameters should you tune?\n",
    "Unfortunately, there isn't a one-size-fits-all magic formula when it comes to selecting how many hyperparameters or which ones you should tune. In general, if you have prior experience with the alogirthm you are using, you could have an idea about the effect of a hyperparameter on the model. Additionally, you could also find assistance in machine learning communities.\n",
    "\n",
    "No matter how you choose which hyperparameters you'd like to tune, it's important to remember that each additional hyperparameter could significantly increase the number of trials and time required to successfully complete the tuning job. \n",
    "\n",
    "# How do you tune hyperparameters?\n",
    "Mathematically, hyperparameter optimization can be represented as an equation:\n",
    "\n",
    "<center><img src=\"/img/blog/guide_hyperparameter_optimization/math_hyperparameter_optimization.png\" alt=\"equation\"></center>\n",
    "<center><font size=\"2\" color=\"#A9A9A9\"><strong> Fig 1: Hyperparameter optimization as an equation </strong></font></center>\n",
    "\n",
    "In essence, this equation reads as find the value of x that minimizes the function f(x). In our case, x would be a hyperparameter and f(x) would be the objective function we are trying to minimize - such as the RMSE or Mean Absolute Error - on a validation set\n",
    "\n",
    "In practice, this process looks like the following:\n",
    "<ol>\n",
    "<li> Define a model you wish to use. (RandomForest, Decision Trees, etc)\n",
    "<li> Define the range of possible values for all hyperparameters you wish to evaluate the model on. (Number of trees, Maximum depth of a tree, etc)\n",
    "<li> Define a method for sampling/selecting hyperparameter values (Exhuastive, Random, Sequential, etc)\n",
    "<li> Train the model for each unique combination of hyperparameter values\n",
    "<li> Define an evaluation criteria to judge each training iteration of the model with a validation set (RMSE or MAE)\n",
    "<li> Define a cross-validation method (k-fold, LOOCV, etc)\n",
    "</ol>\n",
    "\n",
    "All the steps above, put together, constitute the objective function *f(x)* in our hyperparameter tuning, and the unique combination of hyperparameter values would make up the *x*\n",
    "\n",
    "# The challenge of hyperparameter tuning\n",
    "As can be seen from the process listed above, in order to evaluate each set of hyperparameter values we need to train a model on the training data, make predictions on the validation data and then compute the validation metric. This is a time and computationally expensive process that may take minutes or days to complete depending on the size of the data and complexity of the model chosen (think ensembles or deep neural networks); making hyperparameter tuning an intractable problem.\n",
    "\n",
    "# Tuning Strategies\n",
    "There are a number of methods one may implement to try and tune hyperparameters.\n",
    "\n",
    "<ul>\n",
    "<li>Single Validation Set\n",
    "<li>K-Fold Cross Validation\n",
    "<li><a href=\"http://www.jmlr.org/papers/volume13/bergstra12a/bergstra12a.pdf\">Gird Search</a>\n",
    "<li><a href=\"http://www.jmlr.org/papers/volume13/bergstra12a/bergstra12a.pdf\">Random Search</a>\n",
    "<li><a href=\"https://papers.nips.cc/paper/4443-algorithms-for-hyper-parameter-optimization.pdf\">Bayesian Optimization</a>\n",
    "<li><a href=\"https://en.wikipedia.org/wiki/Hyperparameter_optimization#Evolutionary_optimization\">Evolutionary Optimization</a>\n",
    "<li><a href=\"https://en.wikipedia.org/wiki/Hyperparameter_optimization#Gradient-based_optimization\">Gradient Based Optimization</a>\n",
    "</ul>"
   ]
  },
  {
   "cell_type": "code",
   "execution_count": 1,
   "metadata": {},
   "outputs": [
    {
     "name": "stderr",
     "output_type": "stream",
     "text": [
      "/Users/arzan/anaconda3/lib/python3.7/site-packages/sklearn/externals/joblib/__init__.py:15: DeprecationWarning: sklearn.externals.joblib is deprecated in 0.21 and will be removed in 0.23. Please import this functionality directly from joblib, which can be installed with: pip install joblib. If this warning is raised when loading pickled models, you may need to re-serialize those models with scikit-learn 0.21+.\n",
      "  warnings.warn(msg, category=DeprecationWarning)\n"
     ]
    }
   ],
   "source": [
    "from math import sqrt\n",
    "from sklearn import tree\n",
    "\n",
    "from sklearn.datasets import load_boston\n",
    "from sklearn.ensemble import GradientBoostingRegressor\n",
    "\n",
    "from sklearn.model_selection import KFold, GridSearchCV, RandomizedSearchCV, cross_val_score, cross_validate\n",
    "from sklearn.model_selection import train_test_split\n",
    "\n",
    "from sklearn.metrics import accuracy_score\n",
    "from sklearn.metrics import mean_squared_error\n",
    "\n",
    "from skopt import gp_minimize\n",
    "\n",
    "\n",
    "import numpy as np \n",
    "import pandas as pd\n",
    "import matplotlib.pyplot as plt\n",
    "import seaborn as sns\n",
    "import time"
   ]
  },
  {
   "cell_type": "markdown",
   "metadata": {},
   "source": [
    "# Load  and split the data"
   ]
  },
  {
   "cell_type": "code",
   "execution_count": 2,
   "metadata": {},
   "outputs": [],
   "source": [
    "boston = load_boston()\n",
    "X,y = boston.data, boston.target\n",
    "\n",
    "X_learning, X_test, y_learning, y_test = train_test_split(X, y, test_size = 0.2, random_state = 1)\n",
    "\n",
    "X_train, X_valid, y_train, y_valid = train_test_split(X_learning, y_learning, test_size = 0.2, random_state = 1)"
   ]
  },
  {
   "cell_type": "markdown",
   "metadata": {},
   "source": [
    "# Train a base model"
   ]
  },
  {
   "cell_type": "code",
   "execution_count": 3,
   "metadata": {},
   "outputs": [
    {
     "name": "stdout",
     "output_type": "stream",
     "text": [
      "The base model's training MSE is:  1.2399138289598937\n",
      "The base model's validation MSE is:  10.999531455194372\n",
      "The base model's test MSE is:  11.55079943031822\n"
     ]
    }
   ],
   "source": [
    "base_model = GradientBoostingRegressor(random_state = 1)\n",
    "base_model.fit(X_train, y_train)\n",
    "base_prediction_train_y = base_model.predict(X_train)\n",
    "base_prediction_valid_y = base_model.predict(X_valid)\n",
    "base_prediction_test_y = base_model.predict(X_test)\n",
    "print('The base model\\'s training MSE is: ', mean_squared_error(base_prediction_train_y, y_train))\n",
    "print('The base model\\'s validation MSE is: ', mean_squared_error(base_prediction_valid_y, y_valid))\n",
    "print('The base model\\'s test MSE is: ', mean_squared_error(base_prediction_test_y, y_test))"
   ]
  },
  {
   "cell_type": "markdown",
   "metadata": {},
   "source": [
    "# Isolated Experimental Based Hyperparameter Optimization"
   ]
  },
  {
   "cell_type": "code",
   "execution_count": 4,
   "metadata": {
    "scrolled": true
   },
   "outputs": [
    {
     "data": {
      "text/html": [
       "<div>\n",
       "<style scoped>\n",
       "    .dataframe tbody tr th:only-of-type {\n",
       "        vertical-align: middle;\n",
       "    }\n",
       "\n",
       "    .dataframe tbody tr th {\n",
       "        vertical-align: top;\n",
       "    }\n",
       "\n",
       "    .dataframe thead th {\n",
       "        text-align: right;\n",
       "    }\n",
       "</style>\n",
       "<table border=\"1\" class=\"dataframe\">\n",
       "  <thead>\n",
       "    <tr style=\"text-align: right;\">\n",
       "      <th></th>\n",
       "      <th>Method</th>\n",
       "      <th>Hyperparameters Tuned</th>\n",
       "      <th># of CV folds</th>\n",
       "      <th>Total iterations of Objective Fucntion</th>\n",
       "      <th>Duration (seconds)</th>\n",
       "      <th>Best_validation_MSE</th>\n",
       "      <th>Test_MSE</th>\n",
       "    </tr>\n",
       "  </thead>\n",
       "  <tbody>\n",
       "  </tbody>\n",
       "</table>\n",
       "</div>"
      ],
      "text/plain": [
       "Empty DataFrame\n",
       "Columns: [Method, Hyperparameters Tuned, # of CV folds, Total iterations of Objective Fucntion, Duration (seconds), Best_validation_MSE, Test_MSE]\n",
       "Index: []"
      ]
     },
     "execution_count": 4,
     "metadata": {},
     "output_type": "execute_result"
    }
   ],
   "source": [
    "master_results = pd.DataFrame(columns=['Method', 'Hyperparameters Tuned', '# of CV folds',\n",
    "                          'Total iterations of Objective Fucntion','Duration (seconds)',\n",
    "                          'Best_validation_MSE', 'Test_MSE'])\n",
    "\n",
    "#Define a function that can append results to the master_results dataframe\n",
    "def add_results(list_of_results, master_results):\n",
    "    results_pd = pd.DataFrame(list_of_results, columns=['Method', 'Hyperparameters Tuned', '# of CV folds',\n",
    "                          'Total iterations of Objective Fucntion','Duration (seconds)',\n",
    "                          'Best_validation_MSE', 'Test_MSE'])\n",
    "    \n",
    "    return master_results.append(results_pd)\n",
    "\n",
    "master_results"
   ]
  },
  {
   "cell_type": "markdown",
   "metadata": {},
   "source": [
    "## Single Validation Set\n",
    "A single validation set can be used to verify our values for hyperparameters by observing the impact on the loss function of our model on a validation/unseen set of data. The downside of this approach are plenty:  \n",
    "1) We only have one validation set, and depending on its size and how it was created, it might not serve as an accurate representation of real world data.  \n",
    "2) This method is manual and would be quite time consuming if we wanted to try several different hyperparameters and values"
   ]
  },
  {
   "cell_type": "markdown",
   "metadata": {},
   "source": [
    "### Tuning max_depth"
   ]
  },
  {
   "cell_type": "code",
   "execution_count": 5,
   "metadata": {},
   "outputs": [
    {
     "data": {
      "text/plain": [
       "range(1, 10)"
      ]
     },
     "execution_count": 5,
     "metadata": {},
     "output_type": "execute_result"
    }
   ],
   "source": [
    "test_depths = range(1,10)\n",
    "test_depths"
   ]
  },
  {
   "cell_type": "code",
   "execution_count": 6,
   "metadata": {},
   "outputs": [],
   "source": [
    "time_start = time.time()\n",
    "training_scores = []\n",
    "validation_scores = []\n",
    "test_scores = []\n",
    "\n",
    "for depth in test_depths:\n",
    "    updated_model = GradientBoostingRegressor(max_depth = depth, random_state=1)\n",
    "    updated_model.fit(X_train, y_train)\n",
    "    \n",
    "    #Get Predictions\n",
    "    updated_model_prediction_train = updated_model.predict(X_train)\n",
    "    updated_model_prediction_valid = updated_model.predict(X_valid)\n",
    "    updated_model_prediction_test = updated_model.predict(X_test)\n",
    "    \n",
    "    #Calculate MSE\n",
    "    training_scores.append(mean_squared_error(updated_model_prediction_train, y_train))\n",
    "    validation_scores.append(mean_squared_error(updated_model_prediction_valid, y_valid))\n",
    "    test_scores.append(mean_squared_error(updated_model_prediction_test, y_test))\n",
    "\n",
    "time_end = time.time()\n",
    "\n",
    "# Let's store the results\n",
    "method = \"Single Set Validation\"\n",
    "hyperparameters_tuned = 1\n",
    "num_cv_folds = 0\n",
    "total_iters_obj = len(test_depths)\n",
    "duration = time_end - time_start\n",
    "best_validation_mse = min(validation_scores)\n",
    "test_mse = test_scores[validation_scores.index(min(validation_scores))]\n",
    "\n",
    "results_list = [[method, hyperparameters_tuned, num_cv_folds, total_iters_obj,\n",
    "                 duration, best_validation_mse, test_mse]]"
   ]
  },
  {
   "cell_type": "code",
   "execution_count": 7,
   "metadata": {},
   "outputs": [
    {
     "data": {
      "text/html": [
       "<div>\n",
       "<style scoped>\n",
       "    .dataframe tbody tr th:only-of-type {\n",
       "        vertical-align: middle;\n",
       "    }\n",
       "\n",
       "    .dataframe tbody tr th {\n",
       "        vertical-align: top;\n",
       "    }\n",
       "\n",
       "    .dataframe thead th {\n",
       "        text-align: right;\n",
       "    }\n",
       "</style>\n",
       "<table border=\"1\" class=\"dataframe\">\n",
       "  <thead>\n",
       "    <tr style=\"text-align: right;\">\n",
       "      <th></th>\n",
       "      <th>Method</th>\n",
       "      <th>Hyperparameters Tuned</th>\n",
       "      <th># of CV folds</th>\n",
       "      <th>Total iterations of Objective Fucntion</th>\n",
       "      <th>Duration (seconds)</th>\n",
       "      <th>Best_validation_MSE</th>\n",
       "      <th>Test_MSE</th>\n",
       "    </tr>\n",
       "  </thead>\n",
       "  <tbody>\n",
       "    <tr>\n",
       "      <th>0</th>\n",
       "      <td>Single Set Validation</td>\n",
       "      <td>1</td>\n",
       "      <td>0</td>\n",
       "      <td>9</td>\n",
       "      <td>0.60327</td>\n",
       "      <td>10.999531</td>\n",
       "      <td>11.550799</td>\n",
       "    </tr>\n",
       "  </tbody>\n",
       "</table>\n",
       "</div>"
      ],
      "text/plain": [
       "                  Method Hyperparameters Tuned # of CV folds  \\\n",
       "0  Single Set Validation                     1             0   \n",
       "\n",
       "  Total iterations of Objective Fucntion  Duration (seconds)  \\\n",
       "0                                      9             0.60327   \n",
       "\n",
       "   Best_validation_MSE   Test_MSE  \n",
       "0            10.999531  11.550799  "
      ]
     },
     "execution_count": 7,
     "metadata": {},
     "output_type": "execute_result"
    }
   ],
   "source": [
    "master_results = add_results(results_list, master_results)\n",
    "master_results"
   ]
  },
  {
   "cell_type": "markdown",
   "metadata": {},
   "source": [
    "#### Visualize the results"
   ]
  },
  {
   "cell_type": "code",
   "execution_count": 8,
   "metadata": {},
   "outputs": [
    {
     "data": {
      "image/png": "[encoded data removed]",
      "text/plain": [
       "<Figure size 432x288 with 1 Axes>"
      ]
     },
     "metadata": {
      "needs_background": "light"
     },
     "output_type": "display_data"
    }
   ],
   "source": [
    "plt.plot(test_depths,training_scores, color = 'green')\n",
    "plt.plot(test_depths,validation_scores, color = 'blue')\n",
    "plt.plot(test_depths,test_scores, color = 'orange')\n",
    "plt.title(\"MSE vs max_depth\")\n",
    "plt.xlabel(\"Max Depth of Tree\")\n",
    "plt.ylabel(\"MSE\")\n",
    "plt.legend(labels = ['training','validation','test'], loc = [1.05,0.78])\n",
    "plt.show()"
   ]
  },
  {
   "cell_type": "markdown",
   "metadata": {},
   "source": [
    "***\n",
    "<font color=\"#00b7bb\"><b>Important Note:</b></font><i> In practice, you would never touch the <b>test set</b> when performing hyperparameter optimization and neither would you try to repeatedly predict on it. The reason I have showcased the Test_MSE is simply to illustrate what would have happened had we built a model with a particular hyperparameter value and to consolidate our understanding of the importance of validation / cross validation. </i>\n",
    "***"
   ]
  },
  {
   "cell_type": "markdown",
   "metadata": {},
   "source": [
    "It appears that a max_depth of 3 results in the lowest Mean Squared Error of 10.999"
   ]
  },
  {
   "cell_type": "markdown",
   "metadata": {},
   "source": [
    "### Tuning min_samples_split"
   ]
  },
  {
   "cell_type": "code",
   "execution_count": 9,
   "metadata": {},
   "outputs": [
    {
     "data": {
      "text/plain": [
       "22"
      ]
     },
     "execution_count": 9,
     "metadata": {},
     "output_type": "execute_result"
    }
   ],
   "source": [
    "random_min_sample_splits = np.random.RandomState(seed = 2).randint(low=2, high=42, size=30)\n",
    "random_min_sample_splits.sort()\n",
    "random_min_sample_splits = np.unique(random_min_sample_splits)\n",
    "len(random_min_sample_splits)"
   ]
  },
  {
   "cell_type": "code",
   "execution_count": 10,
   "metadata": {},
   "outputs": [],
   "source": [
    "time_start = time.time()\n",
    "training_scores = []\n",
    "validation_scores = []\n",
    "test_scores = []\n",
    "\n",
    "for split_size in random_min_sample_splits:\n",
    "    updated_model = GradientBoostingRegressor(min_samples_split = split_size, random_state=1)\n",
    "    updated_model.fit(X_train, y_train)\n",
    "    \n",
    "    #Get Predictions\n",
    "    updated_model_prediction_train = updated_model.predict(X_train)\n",
    "    updated_model_prediction_valid = updated_model.predict(X_valid)\n",
    "    updated_model_prediction_test = updated_model.predict(X_test)\n",
    "    \n",
    "    #Calculate MSE\n",
    "    training_scores.append(mean_squared_error(updated_model_prediction_train, y_train))\n",
    "    validation_scores.append(mean_squared_error(updated_model_prediction_valid, y_valid))\n",
    "    test_scores.append(mean_squared_error(updated_model_prediction_test, y_test))\n",
    "\n",
    "time_end = time.time()\n",
    "\n",
    "# Let's store the results\n",
    "method = \"Single Set Validation\"\n",
    "hyperparameters_tuned = 1\n",
    "num_cv_folds = 0\n",
    "total_iters_obj = len(random_min_sample_splits)\n",
    "duration = time_end - time_start\n",
    "best_validation_mse = min(validation_scores)\n",
    "test_mse = test_scores[validation_scores.index(min(validation_scores))]\n",
    "\n",
    "results_list = [[method, hyperparameters_tuned, num_cv_folds, total_iters_obj,\n",
    "                 duration, best_validation_mse, test_mse]]"
   ]
  },
  {
   "cell_type": "code",
   "execution_count": 11,
   "metadata": {},
   "outputs": [
    {
     "data": {
      "text/html": [
       "<div>\n",
       "<style scoped>\n",
       "    .dataframe tbody tr th:only-of-type {\n",
       "        vertical-align: middle;\n",
       "    }\n",
       "\n",
       "    .dataframe tbody tr th {\n",
       "        vertical-align: top;\n",
       "    }\n",
       "\n",
       "    .dataframe thead th {\n",
       "        text-align: right;\n",
       "    }\n",
       "</style>\n",
       "<table border=\"1\" class=\"dataframe\">\n",
       "  <thead>\n",
       "    <tr style=\"text-align: right;\">\n",
       "      <th></th>\n",
       "      <th>Method</th>\n",
       "      <th>Hyperparameters Tuned</th>\n",
       "      <th># of CV folds</th>\n",
       "      <th>Total iterations of Objective Fucntion</th>\n",
       "      <th>Duration (seconds)</th>\n",
       "      <th>Best_validation_MSE</th>\n",
       "      <th>Test_MSE</th>\n",
       "    </tr>\n",
       "  </thead>\n",
       "  <tbody>\n",
       "    <tr>\n",
       "      <th>0</th>\n",
       "      <td>Single Set Validation</td>\n",
       "      <td>1</td>\n",
       "      <td>0</td>\n",
       "      <td>9</td>\n",
       "      <td>0.60327</td>\n",
       "      <td>10.999531</td>\n",
       "      <td>11.550799</td>\n",
       "    </tr>\n",
       "    <tr>\n",
       "      <th>0</th>\n",
       "      <td>Single Set Validation</td>\n",
       "      <td>1</td>\n",
       "      <td>0</td>\n",
       "      <td>22</td>\n",
       "      <td>0.72069</td>\n",
       "      <td>10.682589</td>\n",
       "      <td>11.753389</td>\n",
       "    </tr>\n",
       "  </tbody>\n",
       "</table>\n",
       "</div>"
      ],
      "text/plain": [
       "                  Method Hyperparameters Tuned # of CV folds  \\\n",
       "0  Single Set Validation                     1             0   \n",
       "0  Single Set Validation                     1             0   \n",
       "\n",
       "  Total iterations of Objective Fucntion  Duration (seconds)  \\\n",
       "0                                      9             0.60327   \n",
       "0                                     22             0.72069   \n",
       "\n",
       "   Best_validation_MSE   Test_MSE  \n",
       "0            10.999531  11.550799  \n",
       "0            10.682589  11.753389  "
      ]
     },
     "execution_count": 11,
     "metadata": {},
     "output_type": "execute_result"
    }
   ],
   "source": [
    "master_results = add_results(results_list, master_results)\n",
    "master_results"
   ]
  },
  {
   "cell_type": "markdown",
   "metadata": {},
   "source": [
    "#### Visualize the results"
   ]
  },
  {
   "cell_type": "code",
   "execution_count": 12,
   "metadata": {},
   "outputs": [
    {
     "data": {
      "image/png": "[encoded data removed]",
      "text/plain": [
       "<Figure size 432x288 with 1 Axes>"
      ]
     },
     "metadata": {
      "needs_background": "light"
     },
     "output_type": "display_data"
    }
   ],
   "source": [
    "plt.plot(random_min_sample_splits,training_scores, color = 'green')\n",
    "plt.plot(random_min_sample_splits,validation_scores, color = 'blue')\n",
    "plt.plot(random_min_sample_splits,test_scores, color = 'orange')\n",
    "plt.title(\"MSE vs min_samples_split\")\n",
    "plt.xlabel(\"Min. Sample Split at node\")\n",
    "plt.ylabel(\"MSE\")\n",
    "plt.legend(labels = ['training','validation', 'test'], loc = [1.05, 0.78])\n",
    "plt.show()"
   ]
  },
  {
   "cell_type": "markdown",
   "metadata": {},
   "source": [
    "***\n",
    "<font color=\"#00b7bb\"><b>Important Note:</b></font><i> In practice, you would never touch the <b>test set</b> when performing hyperparameter optimization and neither would you try to repeatedly predict on it. The reason I have showcased the Test_MSE is simply to illustrate what would have happened had we built a model with a particular hyperparameter value and to consolidate our understanding of the importance of validation / cross validation. </i>\n",
    "***"
   ]
  },
  {
   "cell_type": "markdown",
   "metadata": {},
   "source": [
    "It appears that a min_smaples_split of 4 results in the lowest Mean Squared Error of 10.683"
   ]
  },
  {
   "cell_type": "markdown",
   "metadata": {},
   "source": [
    "## k-Fold Cross Validation\n",
    "In k-fold cross validation, the data is divided into <b>\"k\"</b> subsets. The model is then trained on k-1 subsets and the last susbet serves as the unseen validation set. This process is repeated k-times, with each of the k subsets having their turn to act as the unseen validation set, while the other k-1 subsets are put together to form the training set. The avearage score or loss of all <i>k</i> runs is calculated and used as a metric to make an informed selection for the hyperparameter values. \n",
    "\n",
    "Unlike the single cross validation set, k-fold cross validation allows you to test your hyperparameter selection on multiple sets of unseen data. Hence, the resulting score or loss is more accurate indicator of how the model will perform on unseen data."
   ]
  },
  {
   "cell_type": "markdown",
   "metadata": {},
   "source": [
    "### Tuning max_depth"
   ]
  },
  {
   "cell_type": "code",
   "execution_count": 13,
   "metadata": {},
   "outputs": [],
   "source": [
    "time_start = time.time()\n",
    "training_scores = []\n",
    "validation_scores = []\n",
    "test_scores = []\n",
    "avg_cross_val_scores = []\n",
    "\n",
    "for depth in test_depths:\n",
    "    updated_model = GradientBoostingRegressor(max_depth = depth, random_state=1)\n",
    "    updated_model.fit(X_train, y_train)\n",
    "    \n",
    "    #Get Predictions\n",
    "    updated_model_prediction_train = updated_model.predict(X_train)\n",
    "    updated_model_prediction_valid = updated_model.predict(X_valid)\n",
    "    updated_model_prediction_test = updated_model.predict(X_test)\n",
    "    \n",
    "    \n",
    "    #Calculate MSE\n",
    "    training_scores.append(mean_squared_error(updated_model_prediction_train, y_train))\n",
    "    validation_scores.append(mean_squared_error(updated_model_prediction_valid, y_valid))\n",
    "    test_scores.append(mean_squared_error(updated_model_prediction_test, y_test))\n",
    "    \n",
    "    # Computing additional Cross validation score.\n",
    "    avg_cross_val_scores.append(-np.mean(cross_val_score(updated_model, X_learning,  y_learning, cv=5,\n",
    "                                                              scoring = 'neg_mean_squared_error')))\n",
    "\n",
    "    \n",
    "time_end = time.time()    \n",
    "\n",
    "# Let's store the results\n",
    "method = \"k-Fold Cross Validation\"\n",
    "hyperparameters_tuned = 1\n",
    "num_cv_folds = 5\n",
    "total_iters_obj = len(test_depths) * num_cv_folds\n",
    "duration = time_end - time_start\n",
    "best_validation_mse = min(avg_cross_val_scores)\n",
    "test_mse = test_scores[avg_cross_val_scores.index(min(avg_cross_val_scores))]\n",
    "\n",
    "results_list = [[method, hyperparameters_tuned, num_cv_folds, total_iters_obj,\n",
    "                 duration, best_validation_mse, test_mse]]"
   ]
  },
  {
   "cell_type": "code",
   "execution_count": 14,
   "metadata": {},
   "outputs": [
    {
     "data": {
      "text/html": [
       "<div>\n",
       "<style scoped>\n",
       "    .dataframe tbody tr th:only-of-type {\n",
       "        vertical-align: middle;\n",
       "    }\n",
       "\n",
       "    .dataframe tbody tr th {\n",
       "        vertical-align: top;\n",
       "    }\n",
       "\n",
       "    .dataframe thead th {\n",
       "        text-align: right;\n",
       "    }\n",
       "</style>\n",
       "<table border=\"1\" class=\"dataframe\">\n",
       "  <thead>\n",
       "    <tr style=\"text-align: right;\">\n",
       "      <th></th>\n",
       "      <th>Method</th>\n",
       "      <th>Hyperparameters Tuned</th>\n",
       "      <th># of CV folds</th>\n",
       "      <th>Total iterations of Objective Fucntion</th>\n",
       "      <th>Duration (seconds)</th>\n",
       "      <th>Best_validation_MSE</th>\n",
       "      <th>Test_MSE</th>\n",
       "    </tr>\n",
       "  </thead>\n",
       "  <tbody>\n",
       "    <tr>\n",
       "      <th>0</th>\n",
       "      <td>Single Set Validation</td>\n",
       "      <td>1</td>\n",
       "      <td>0</td>\n",
       "      <td>9</td>\n",
       "      <td>0.603270</td>\n",
       "      <td>10.999531</td>\n",
       "      <td>11.550799</td>\n",
       "    </tr>\n",
       "    <tr>\n",
       "      <th>0</th>\n",
       "      <td>Single Set Validation</td>\n",
       "      <td>1</td>\n",
       "      <td>0</td>\n",
       "      <td>22</td>\n",
       "      <td>0.720690</td>\n",
       "      <td>10.682589</td>\n",
       "      <td>11.753389</td>\n",
       "    </tr>\n",
       "    <tr>\n",
       "      <th>0</th>\n",
       "      <td>k-Fold Cross Validation</td>\n",
       "      <td>1</td>\n",
       "      <td>5</td>\n",
       "      <td>45</td>\n",
       "      <td>3.238729</td>\n",
       "      <td>10.299761</td>\n",
       "      <td>15.260511</td>\n",
       "    </tr>\n",
       "  </tbody>\n",
       "</table>\n",
       "</div>"
      ],
      "text/plain": [
       "                    Method Hyperparameters Tuned # of CV folds  \\\n",
       "0    Single Set Validation                     1             0   \n",
       "0    Single Set Validation                     1             0   \n",
       "0  k-Fold Cross Validation                     1             5   \n",
       "\n",
       "  Total iterations of Objective Fucntion  Duration (seconds)  \\\n",
       "0                                      9            0.603270   \n",
       "0                                     22            0.720690   \n",
       "0                                     45            3.238729   \n",
       "\n",
       "   Best_validation_MSE   Test_MSE  \n",
       "0            10.999531  11.550799  \n",
       "0            10.682589  11.753389  \n",
       "0            10.299761  15.260511  "
      ]
     },
     "execution_count": 14,
     "metadata": {},
     "output_type": "execute_result"
    }
   ],
   "source": [
    "master_results = add_results(results_list, master_results)\n",
    "master_results"
   ]
  },
  {
   "cell_type": "markdown",
   "metadata": {},
   "source": [
    "#### Visualize the results"
   ]
  },
  {
   "cell_type": "code",
   "execution_count": 15,
   "metadata": {},
   "outputs": [
    {
     "data": {
      "image/png": "[encoded data removed]",
      "text/plain": [
       "<Figure size 432x288 with 1 Axes>"
      ]
     },
     "metadata": {
      "needs_background": "light"
     },
     "output_type": "display_data"
    }
   ],
   "source": [
    "plt.plot(test_depths,training_scores, color = 'green')\n",
    "plt.plot(test_depths,validation_scores, color = 'blue')\n",
    "plt.plot(test_depths,avg_cross_val_scores, color = 'red')\n",
    "plt.plot(test_depths,test_scores, color = 'orange')\n",
    "plt.title(\"RMSE vs max_depth\")\n",
    "plt.xlabel(\"Max Depth of Tree\")\n",
    "plt.ylabel(\"RMSE\")\n",
    "plt.legend(labels = ['training','validation', 'avg_cross_validation', 'test'], loc = [1.05, 0.78])\n",
    "plt.show()"
   ]
  },
  {
   "cell_type": "markdown",
   "metadata": {},
   "source": [
    "***\n",
    "<font color=\"#00b7bb\"><b>Important Note:</b></font><i> In practice, you would never touch the <b>test set</b> when performing hyperparameter optimization and neither would you try to repeatedly predict on it. The reason I have showcased the Test_MSE is simply to illustrate what would have happened had we built a model with a particular hyperparameter value and to consolidate our understanding of the importance of validation / cross validation. </i>\n",
    "***"
   ]
  },
  {
   "cell_type": "markdown",
   "metadata": {},
   "source": [
    "### Tuning min_samples_split"
   ]
  },
  {
   "cell_type": "code",
   "execution_count": 16,
   "metadata": {},
   "outputs": [],
   "source": [
    "time_start = time.time()\n",
    "training_scores = []\n",
    "validation_scores = []\n",
    "test_scores = []\n",
    "avg_cross_val_scores = []\n",
    "\n",
    "for split_size in random_min_sample_splits:\n",
    "    updated_model = GradientBoostingRegressor(min_samples_split = split_size, random_state=1)\n",
    "    updated_model.fit(X_train, y_train)\n",
    "    \n",
    "    #Get Predictions\n",
    "    updated_model_prediction_train = updated_model.predict(X_train)\n",
    "    updated_model_prediction_valid = updated_model.predict(X_valid)\n",
    "    updated_model_prediction_test = updated_model.predict(X_test)\n",
    "    \n",
    "    #Calculate MSE\n",
    "    training_scores.append(mean_squared_error(updated_model_prediction_train, y_train))\n",
    "    validation_scores.append(mean_squared_error(updated_model_prediction_valid, y_valid))\n",
    "    test_scores.append(mean_squared_error(updated_model_prediction_test, y_test))\n",
    "    \n",
    "    # Computing additional Cross validation score.\n",
    "    avg_cross_val_scores.append(-np.mean(cross_val_score(updated_model, X_learning,  y_learning, cv=5,\n",
    "                                                              scoring = 'neg_mean_squared_error')))\n",
    "    \n",
    "time_end = time.time()    \n",
    "\n",
    "# Let's store the results\n",
    "method = \"k-Fold Cross Validation\"\n",
    "hyperparameters_tuned = 1\n",
    "num_cv_folds = 5\n",
    "total_iters_obj = len(random_min_sample_splits) * num_cv_folds\n",
    "duration = time_end - time_start\n",
    "best_validation_mse = min(avg_cross_val_scores)\n",
    "test_mse = test_scores[avg_cross_val_scores.index(min(avg_cross_val_scores))]\n",
    "\n",
    "results_list = [[method, hyperparameters_tuned, num_cv_folds, total_iters_obj,\n",
    "                 duration, best_validation_mse, test_mse]]"
   ]
  },
  {
   "cell_type": "code",
   "execution_count": 17,
   "metadata": {},
   "outputs": [
    {
     "data": {
      "text/html": [
       "<div>\n",
       "<style scoped>\n",
       "    .dataframe tbody tr th:only-of-type {\n",
       "        vertical-align: middle;\n",
       "    }\n",
       "\n",
       "    .dataframe tbody tr th {\n",
       "        vertical-align: top;\n",
       "    }\n",
       "\n",
       "    .dataframe thead th {\n",
       "        text-align: right;\n",
       "    }\n",
       "</style>\n",
       "<table border=\"1\" class=\"dataframe\">\n",
       "  <thead>\n",
       "    <tr style=\"text-align: right;\">\n",
       "      <th></th>\n",
       "      <th>Method</th>\n",
       "      <th>Hyperparameters Tuned</th>\n",
       "      <th># of CV folds</th>\n",
       "      <th>Total iterations of Objective Fucntion</th>\n",
       "      <th>Duration (seconds)</th>\n",
       "      <th>Best_validation_MSE</th>\n",
       "      <th>Test_MSE</th>\n",
       "    </tr>\n",
       "  </thead>\n",
       "  <tbody>\n",
       "    <tr>\n",
       "      <th>0</th>\n",
       "      <td>Single Set Validation</td>\n",
       "      <td>1</td>\n",
       "      <td>0</td>\n",
       "      <td>9</td>\n",
       "      <td>0.603270</td>\n",
       "      <td>10.999531</td>\n",
       "      <td>11.550799</td>\n",
       "    </tr>\n",
       "    <tr>\n",
       "      <th>0</th>\n",
       "      <td>Single Set Validation</td>\n",
       "      <td>1</td>\n",
       "      <td>0</td>\n",
       "      <td>22</td>\n",
       "      <td>0.720690</td>\n",
       "      <td>10.682589</td>\n",
       "      <td>11.753389</td>\n",
       "    </tr>\n",
       "    <tr>\n",
       "      <th>0</th>\n",
       "      <td>k-Fold Cross Validation</td>\n",
       "      <td>1</td>\n",
       "      <td>5</td>\n",
       "      <td>45</td>\n",
       "      <td>3.238729</td>\n",
       "      <td>10.299761</td>\n",
       "      <td>15.260511</td>\n",
       "    </tr>\n",
       "    <tr>\n",
       "      <th>0</th>\n",
       "      <td>k-Fold Cross Validation</td>\n",
       "      <td>1</td>\n",
       "      <td>5</td>\n",
       "      <td>110</td>\n",
       "      <td>4.042263</td>\n",
       "      <td>10.762809</td>\n",
       "      <td>11.277725</td>\n",
       "    </tr>\n",
       "  </tbody>\n",
       "</table>\n",
       "</div>"
      ],
      "text/plain": [
       "                    Method Hyperparameters Tuned # of CV folds  \\\n",
       "0    Single Set Validation                     1             0   \n",
       "0    Single Set Validation                     1             0   \n",
       "0  k-Fold Cross Validation                     1             5   \n",
       "0  k-Fold Cross Validation                     1             5   \n",
       "\n",
       "  Total iterations of Objective Fucntion  Duration (seconds)  \\\n",
       "0                                      9            0.603270   \n",
       "0                                     22            0.720690   \n",
       "0                                     45            3.238729   \n",
       "0                                    110            4.042263   \n",
       "\n",
       "   Best_validation_MSE   Test_MSE  \n",
       "0            10.999531  11.550799  \n",
       "0            10.682589  11.753389  \n",
       "0            10.299761  15.260511  \n",
       "0            10.762809  11.277725  "
      ]
     },
     "execution_count": 17,
     "metadata": {},
     "output_type": "execute_result"
    }
   ],
   "source": [
    "master_results = add_results(results_list, master_results)\n",
    "master_results"
   ]
  },
  {
   "cell_type": "markdown",
   "metadata": {},
   "source": [
    "#### Visualize the results"
   ]
  },
  {
   "cell_type": "code",
   "execution_count": 18,
   "metadata": {
    "scrolled": true
   },
   "outputs": [
    {
     "data": {
      "image/png": "[encoded data removed]",
      "text/plain": [
       "<Figure size 432x288 with 1 Axes>"
      ]
     },
     "metadata": {
      "needs_background": "light"
     },
     "output_type": "display_data"
    }
   ],
   "source": [
    "plt.plot(random_min_sample_splits,training_scores, color = 'green')\n",
    "plt.plot(random_min_sample_splits,validation_scores, color = 'blue')\n",
    "plt.plot(random_min_sample_splits,avg_cross_val_scores, color = 'red')\n",
    "plt.plot(random_min_sample_splits,test_scores, color = 'orange')\n",
    "plt.title(\"MSE vs min_samples_split\")\n",
    "plt.xlabel(\"Min. Sample Split at node\")\n",
    "plt.ylabel(\"MSE\")\n",
    "plt.legend(labels = ['training','validation',  'avg_cross_validation', 'test'], loc = [1.05,0.60])\n",
    "plt.show()"
   ]
  },
  {
   "cell_type": "markdown",
   "metadata": {},
   "source": [
    "***\n",
    "<font color=\"#00b7bb\"><b>Important Note:</b></font><i> In practice, you would never touch the <b>test set</b> when performing hyperparameter optimization and neither would you try to repeatedly predict on it. The reason I have showcased the Test_MSE is simply to illustrate what would have happened had we built a model with a particular hyperparameter value and to consolidate our understanding of the importance of validation / cross validation. </i>\n",
    "***"
   ]
  },
  {
   "cell_type": "markdown",
   "metadata": {},
   "source": [
    "### Tuning multiple hyperparatmeters simultaneously"
   ]
  },
  {
   "cell_type": "markdown",
   "metadata": {},
   "source": [
    "In general, the avg_cross_validation MSE serves as a stronger indicator of the model's accuracy on unseen data given that it has been tested on more than a single validation set.\n",
    "\n",
    "<i><b>Important Note:</b></i> In the MSE vs min_samlpes_split plot, we can see that MSE doesn't vary drastically with the increase in the min_samlpes_split. Hence, since the MSE is not a defining criteria, you should default to picking a hyperparameter value that results in a less complex model. In this case, we would pick a model with a larger min_samples split than a smaller one, as a smaller min_samples_split value would result in a more complex model. Remember, in practice you will never touch the test set and will not have it a line plotted for it. \n",
    "\n",
    "In both the examples above, we only tried to optimize one hyperparameter at a time. However, it would be incorrect to combine the hyperparameter values from these isolated experiments and assume you have created the best model. This is because each hyperparameter was optimized in a mututally exclusive enviorment from the other. Hence, when we were optimizing for the min_samples_split, the max_depth of the model was the default value, and likewise when we were optimizing for the max_depth, the min_samples_split was the default value. \n",
    "\n",
    "Let's try top optimize both these hyperparameters simultaneously. Since we have 9 different max_depths, and 22 unique min_samples_split sizes, finding the best hyperparameter values will require us to train the model 9x22 = 198 times. Once for each unique combination of hyperparameter values. Furthermore, we are performing a 5-fold cross validation, which will raise the total number of iterations of our objective function to 198x5 = 990."
   ]
  },
  {
   "cell_type": "code",
   "execution_count": 19,
   "metadata": {},
   "outputs": [
    {
     "data": {
      "text/plain": [
       "{'max_depth': [],\n",
       " 'min_samples_split': [],\n",
       " 'training': [],\n",
       " 'validation': [],\n",
       " 'avg_cross_validaion': [],\n",
       " 'test': []}"
      ]
     },
     "execution_count": 19,
     "metadata": {},
     "output_type": "execute_result"
    }
   ],
   "source": [
    "keys = ['max_depth', 'min_samples_split', 'training', 'validation', 'avg_cross_validaion', 'test']\n",
    "scores_dict = {key: [] for key in keys}\n",
    "\n",
    "scores_dict"
   ]
  },
  {
   "cell_type": "code",
   "execution_count": 20,
   "metadata": {},
   "outputs": [
    {
     "data": {
      "text/html": [
       "<div>\n",
       "<style scoped>\n",
       "    .dataframe tbody tr th:only-of-type {\n",
       "        vertical-align: middle;\n",
       "    }\n",
       "\n",
       "    .dataframe tbody tr th {\n",
       "        vertical-align: top;\n",
       "    }\n",
       "\n",
       "    .dataframe thead th {\n",
       "        text-align: right;\n",
       "    }\n",
       "</style>\n",
       "<table border=\"1\" class=\"dataframe\">\n",
       "  <thead>\n",
       "    <tr style=\"text-align: right;\">\n",
       "      <th></th>\n",
       "      <th>max_depth</th>\n",
       "      <th>min_samples_split</th>\n",
       "      <th>training</th>\n",
       "      <th>validation</th>\n",
       "      <th>avg_cross_validaion</th>\n",
       "      <th>test</th>\n",
       "    </tr>\n",
       "  </thead>\n",
       "  <tbody>\n",
       "    <tr>\n",
       "      <th>0</th>\n",
       "      <td>1</td>\n",
       "      <td>4</td>\n",
       "      <td>9.767357</td>\n",
       "      <td>16.71986</td>\n",
       "      <td>18.485652</td>\n",
       "      <td>15.84921</td>\n",
       "    </tr>\n",
       "    <tr>\n",
       "      <th>1</th>\n",
       "      <td>1</td>\n",
       "      <td>5</td>\n",
       "      <td>9.767357</td>\n",
       "      <td>16.71986</td>\n",
       "      <td>18.485652</td>\n",
       "      <td>15.84921</td>\n",
       "    </tr>\n",
       "    <tr>\n",
       "      <th>2</th>\n",
       "      <td>1</td>\n",
       "      <td>6</td>\n",
       "      <td>9.767357</td>\n",
       "      <td>16.71986</td>\n",
       "      <td>18.485652</td>\n",
       "      <td>15.84921</td>\n",
       "    </tr>\n",
       "    <tr>\n",
       "      <th>3</th>\n",
       "      <td>1</td>\n",
       "      <td>7</td>\n",
       "      <td>9.767357</td>\n",
       "      <td>16.71986</td>\n",
       "      <td>18.485652</td>\n",
       "      <td>15.84921</td>\n",
       "    </tr>\n",
       "    <tr>\n",
       "      <th>4</th>\n",
       "      <td>1</td>\n",
       "      <td>8</td>\n",
       "      <td>9.767357</td>\n",
       "      <td>16.71986</td>\n",
       "      <td>18.485652</td>\n",
       "      <td>15.84921</td>\n",
       "    </tr>\n",
       "  </tbody>\n",
       "</table>\n",
       "</div>"
      ],
      "text/plain": [
       "   max_depth  min_samples_split  training  validation  avg_cross_validaion  \\\n",
       "0          1                  4  9.767357    16.71986            18.485652   \n",
       "1          1                  5  9.767357    16.71986            18.485652   \n",
       "2          1                  6  9.767357    16.71986            18.485652   \n",
       "3          1                  7  9.767357    16.71986            18.485652   \n",
       "4          1                  8  9.767357    16.71986            18.485652   \n",
       "\n",
       "       test  \n",
       "0  15.84921  \n",
       "1  15.84921  \n",
       "2  15.84921  \n",
       "3  15.84921  \n",
       "4  15.84921  "
      ]
     },
     "execution_count": 20,
     "metadata": {},
     "output_type": "execute_result"
    }
   ],
   "source": [
    "time_start = time.time()\n",
    "for depth in test_depths:\n",
    "    for split_size in random_min_sample_splits:\n",
    "        updated_model = GradientBoostingRegressor(max_depth = depth, min_samples_split = split_size, random_state=1)\n",
    "        updated_model.fit(X_train, y_train)\n",
    "        \n",
    "        #Get Predictions\n",
    "        updated_model_prediction_train = updated_model.predict(X_train)\n",
    "        updated_model_prediction_valid = updated_model.predict(X_valid)\n",
    "        updated_model_prediction_test = updated_model.predict(X_test)\n",
    "        \n",
    "        #Calculate MSE\n",
    "        scores_dict['max_depth'].append(depth)\n",
    "        scores_dict['min_samples_split'].append(split_size)\n",
    "        scores_dict['training'].append(mean_squared_error(updated_model_prediction_train, y_train))\n",
    "        scores_dict['validation'].append(mean_squared_error(updated_model_prediction_valid, y_valid))\n",
    "        scores_dict['test'].append(mean_squared_error(updated_model_prediction_test, y_test))\n",
    "        scores_dict['avg_cross_validaion'].append(-np.mean(cross_val_score(updated_model, X_learning,  y_learning,\n",
    "                                                                           cv=5, scoring = 'neg_mean_squared_error')))\n",
    "\n",
    "time_end = time.time()          \n",
    "\n",
    "# Let's store the results\n",
    "method = \"k-Fold Cross Validation\"\n",
    "hyperparameters_tuned = 2\n",
    "num_cv_folds = 5\n",
    "total_iters_obj = len(test_depths) * len(random_min_sample_splits) * num_cv_folds\n",
    "duration = time_end - time_start\n",
    "best_validation_mse = min(scores_dict['avg_cross_validaion'])\n",
    "test_mse = scores_dict['test'][scores_dict['avg_cross_validaion'].index(min(scores_dict['avg_cross_validaion']))]\n",
    "\n",
    "results_list = [[method, hyperparameters_tuned, num_cv_folds, total_iters_obj,\n",
    "                 duration, best_validation_mse, test_mse]]\n",
    "\n",
    "# Conver to dataframe from plotting purposes\n",
    "scores_pd = pd.DataFrame(scores_dict)\n",
    "scores_pd.head()"
   ]
  },
  {
   "cell_type": "code",
   "execution_count": 21,
   "metadata": {},
   "outputs": [
    {
     "data": {
      "text/html": [
       "<div>\n",
       "<style scoped>\n",
       "    .dataframe tbody tr th:only-of-type {\n",
       "        vertical-align: middle;\n",
       "    }\n",
       "\n",
       "    .dataframe tbody tr th {\n",
       "        vertical-align: top;\n",
       "    }\n",
       "\n",
       "    .dataframe thead th {\n",
       "        text-align: right;\n",
       "    }\n",
       "</style>\n",
       "<table border=\"1\" class=\"dataframe\">\n",
       "  <thead>\n",
       "    <tr style=\"text-align: right;\">\n",
       "      <th></th>\n",
       "      <th>Method</th>\n",
       "      <th>Hyperparameters Tuned</th>\n",
       "      <th># of CV folds</th>\n",
       "      <th>Total iterations of Objective Fucntion</th>\n",
       "      <th>Duration (seconds)</th>\n",
       "      <th>Best_validation_MSE</th>\n",
       "      <th>Test_MSE</th>\n",
       "    </tr>\n",
       "  </thead>\n",
       "  <tbody>\n",
       "    <tr>\n",
       "      <th>0</th>\n",
       "      <td>Single Set Validation</td>\n",
       "      <td>1</td>\n",
       "      <td>0</td>\n",
       "      <td>9</td>\n",
       "      <td>0.603270</td>\n",
       "      <td>10.999531</td>\n",
       "      <td>11.550799</td>\n",
       "    </tr>\n",
       "    <tr>\n",
       "      <th>0</th>\n",
       "      <td>Single Set Validation</td>\n",
       "      <td>1</td>\n",
       "      <td>0</td>\n",
       "      <td>22</td>\n",
       "      <td>0.720690</td>\n",
       "      <td>10.682589</td>\n",
       "      <td>11.753389</td>\n",
       "    </tr>\n",
       "    <tr>\n",
       "      <th>0</th>\n",
       "      <td>k-Fold Cross Validation</td>\n",
       "      <td>1</td>\n",
       "      <td>5</td>\n",
       "      <td>45</td>\n",
       "      <td>3.238729</td>\n",
       "      <td>10.299761</td>\n",
       "      <td>15.260511</td>\n",
       "    </tr>\n",
       "    <tr>\n",
       "      <th>0</th>\n",
       "      <td>k-Fold Cross Validation</td>\n",
       "      <td>1</td>\n",
       "      <td>5</td>\n",
       "      <td>110</td>\n",
       "      <td>4.042263</td>\n",
       "      <td>10.762809</td>\n",
       "      <td>11.277725</td>\n",
       "    </tr>\n",
       "    <tr>\n",
       "      <th>0</th>\n",
       "      <td>k-Fold Cross Validation</td>\n",
       "      <td>2</td>\n",
       "      <td>5</td>\n",
       "      <td>990</td>\n",
       "      <td>53.670445</td>\n",
       "      <td>9.154186</td>\n",
       "      <td>10.856284</td>\n",
       "    </tr>\n",
       "  </tbody>\n",
       "</table>\n",
       "</div>"
      ],
      "text/plain": [
       "                    Method Hyperparameters Tuned # of CV folds  \\\n",
       "0    Single Set Validation                     1             0   \n",
       "0    Single Set Validation                     1             0   \n",
       "0  k-Fold Cross Validation                     1             5   \n",
       "0  k-Fold Cross Validation                     1             5   \n",
       "0  k-Fold Cross Validation                     2             5   \n",
       "\n",
       "  Total iterations of Objective Fucntion  Duration (seconds)  \\\n",
       "0                                      9            0.603270   \n",
       "0                                     22            0.720690   \n",
       "0                                     45            3.238729   \n",
       "0                                    110            4.042263   \n",
       "0                                    990           53.670445   \n",
       "\n",
       "   Best_validation_MSE   Test_MSE  \n",
       "0            10.999531  11.550799  \n",
       "0            10.682589  11.753389  \n",
       "0            10.299761  15.260511  \n",
       "0            10.762809  11.277725  \n",
       "0             9.154186  10.856284  "
      ]
     },
     "execution_count": 21,
     "metadata": {},
     "output_type": "execute_result"
    }
   ],
   "source": [
    "master_results = add_results(results_list, master_results)\n",
    "master_results"
   ]
  },
  {
   "cell_type": "markdown",
   "metadata": {},
   "source": [
    "#### Visualize the results"
   ]
  },
  {
   "cell_type": "code",
   "execution_count": 22,
   "metadata": {},
   "outputs": [
    {
     "data": {
      "image/png": "[encoded data removed]",
      "text/plain": [
       "<Figure size 648x648 with 9 Axes>"
      ]
     },
     "metadata": {
      "needs_background": "light"
     },
     "output_type": "display_data"
    }
   ],
   "source": [
    "g = sns.FacetGrid(scores_pd, col='max_depth', col_wrap=3)\n",
    "g.map(sns.lineplot, \"min_samples_split\", \"training\", alpha=.7 , color = 'blue')\n",
    "g.map(sns.lineplot, \"min_samples_split\", \"validation\", alpha=.7 , color = 'green')\n",
    "g.map(sns.lineplot, \"min_samples_split\", \"avg_cross_validaion\", alpha=.7 , color = 'red')\n",
    "g.map(sns.lineplot, \"min_samples_split\", \"test\", alpha=.7 , color = 'orange')\n",
    "plt.legend(labels = ['training','validation', 'avg_cross_validation', 'test'], loc = [1.25,3.05])\n",
    "g.set_axis_labels('Min. Sample Split at node', 'MSE')\n",
    "plt.show()"
   ]
  },
  {
   "cell_type": "markdown",
   "metadata": {},
   "source": [
    "***\n",
    "<font color=\"#00b7bb\"><b>Important Note:</b></font><i> In practice, you would never touch the <b>test set</b> when performing hyperparameter optimization and neither would you try to repeatedly predict on it. The reason I have showcased the Test_MSE is simply to illustrate what would have happened had we built a model with a particular hyperparameter value and to consolidate our understanding of the importance of validation / cross validation. </i>\n",
    "***"
   ]
  },
  {
   "cell_type": "code",
   "execution_count": 23,
   "metadata": {},
   "outputs": [
    {
     "data": {
      "text/html": [
       "<div>\n",
       "<style scoped>\n",
       "    .dataframe tbody tr th:only-of-type {\n",
       "        vertical-align: middle;\n",
       "    }\n",
       "\n",
       "    .dataframe tbody tr th {\n",
       "        vertical-align: top;\n",
       "    }\n",
       "\n",
       "    .dataframe thead th {\n",
       "        text-align: right;\n",
       "    }\n",
       "</style>\n",
       "<table border=\"1\" class=\"dataframe\">\n",
       "  <thead>\n",
       "    <tr style=\"text-align: right;\">\n",
       "      <th></th>\n",
       "      <th>max_depth</th>\n",
       "      <th>min_samples_split</th>\n",
       "      <th>training</th>\n",
       "      <th>validation</th>\n",
       "      <th>avg_cross_validaion</th>\n",
       "      <th>test</th>\n",
       "    </tr>\n",
       "  </thead>\n",
       "  <tbody>\n",
       "    <tr>\n",
       "      <th>195</th>\n",
       "      <td>9</td>\n",
       "      <td>39</td>\n",
       "      <td>0.166895</td>\n",
       "      <td>11.163848</td>\n",
       "      <td>9.154186</td>\n",
       "      <td>10.856284</td>\n",
       "    </tr>\n",
       "  </tbody>\n",
       "</table>\n",
       "</div>"
      ],
      "text/plain": [
       "     max_depth  min_samples_split  training  validation  avg_cross_validaion  \\\n",
       "195          9                 39  0.166895   11.163848             9.154186   \n",
       "\n",
       "          test  \n",
       "195  10.856284  "
      ]
     },
     "execution_count": 23,
     "metadata": {},
     "output_type": "execute_result"
    }
   ],
   "source": [
    "scores_pd[scores_pd['avg_cross_validaion'] == min(scores_pd['avg_cross_validaion'])]"
   ]
  },
  {
   "cell_type": "markdown",
   "metadata": {},
   "source": [
    "In essence, this was the manual process of performing grid search cross validation. In that we were given a hyperparmeter space with a set of values for each hyperparameter and we performed an exhaustive search across this space to find best results."
   ]
  },
  {
   "cell_type": "markdown",
   "metadata": {},
   "source": [
    "## Grid Search\n",
    "With <a href=\"http://www.jmlr.org/papers/volume13/bergstra12a/bergstra12a.pdf\">Gird Search CV</a>, a set of values is provided for each hyperparameter you wish to tune. The algorithm will then take the cartesian product of these sets and try evey unqiue combination of hyperparameters and return the values that result in the highest accuracy or lowest error. \n",
    "\n",
    "The grid search algorithm is exhaustive in nature, in that it will try every combination of values in the hyperparameter space you provide. An advantage of the grid search algorithm is that it automates the process. However, as you can imagine, it is also time and computationally expensive.   \n",
    "\n",
    "Let's try to re-create the grid search we did above"
   ]
  },
  {
   "cell_type": "code",
   "execution_count": 24,
   "metadata": {
    "scrolled": true
   },
   "outputs": [
    {
     "name": "stderr",
     "output_type": "stream",
     "text": [
      "/Users/arzan/anaconda3/lib/python3.7/site-packages/sklearn/model_selection/_search.py:813: DeprecationWarning: The default of the `iid` parameter will change from True to False in version 0.22 and will be removed in 0.24. This will change numeric results when test-set sizes are unequal.\n",
      "  DeprecationWarning)\n"
     ]
    },
    {
     "data": {
      "text/plain": [
       "{'max_depth': 9, 'min_samples_split': 39}"
      ]
     },
     "execution_count": 24,
     "metadata": {},
     "output_type": "execute_result"
    }
   ],
   "source": [
    "parameters = {'max_depth':test_depths,\n",
    "              'min_samples_split':random_min_sample_splits}\n",
    "\n",
    "time_start = time.time()\n",
    "\n",
    "gridCV_GBRegressor = GradientBoostingRegressor(random_state=1)\n",
    "reg = GridSearchCV(gridCV_GBRegressor, parameters, cv=5, scoring = 'neg_mean_squared_error')\n",
    "reg.fit(X_learning, y_learning)\n",
    "\n",
    "time_end = time.time()   \n",
    "\n",
    "reg.best_params_"
   ]
  },
  {
   "cell_type": "markdown",
   "metadata": {},
   "source": [
    "As you can see, the values for the hyperparameterts suggested by the GridSearchCV algorithm are the same as our manual step above"
   ]
  },
  {
   "cell_type": "code",
   "execution_count": 25,
   "metadata": {},
   "outputs": [],
   "source": [
    "# Let's store the results\n",
    "method = \"Grid Search Cross Validation\"\n",
    "hyperparameters_tuned = 2\n",
    "num_cv_folds = 5\n",
    "total_iters_obj = len(test_depths) * len(random_min_sample_splits) * num_cv_folds\n",
    "duration = time_end - time_start\n",
    "best_validation_mse = -pd.DataFrame(reg.cv_results_)[pd.DataFrame(reg.cv_results_)['rank_test_score'] == 1][['mean_test_score']].values[0][0]\n",
    "test_mse = mean_squared_error(reg.best_estimator_.predict(X_test), y_test)\n",
    "\n",
    "results_list = [[method, hyperparameters_tuned, num_cv_folds, total_iters_obj,\n",
    "                 duration, best_validation_mse, test_mse]]"
   ]
  },
  {
   "cell_type": "code",
   "execution_count": 26,
   "metadata": {},
   "outputs": [
    {
     "data": {
      "text/html": [
       "<div>\n",
       "<style scoped>\n",
       "    .dataframe tbody tr th:only-of-type {\n",
       "        vertical-align: middle;\n",
       "    }\n",
       "\n",
       "    .dataframe tbody tr th {\n",
       "        vertical-align: top;\n",
       "    }\n",
       "\n",
       "    .dataframe thead th {\n",
       "        text-align: right;\n",
       "    }\n",
       "</style>\n",
       "<table border=\"1\" class=\"dataframe\">\n",
       "  <thead>\n",
       "    <tr style=\"text-align: right;\">\n",
       "      <th></th>\n",
       "      <th>Method</th>\n",
       "      <th>Hyperparameters Tuned</th>\n",
       "      <th># of CV folds</th>\n",
       "      <th>Total iterations of Objective Fucntion</th>\n",
       "      <th>Duration (seconds)</th>\n",
       "      <th>Best_validation_MSE</th>\n",
       "      <th>Test_MSE</th>\n",
       "    </tr>\n",
       "  </thead>\n",
       "  <tbody>\n",
       "    <tr>\n",
       "      <th>0</th>\n",
       "      <td>Single Set Validation</td>\n",
       "      <td>1</td>\n",
       "      <td>0</td>\n",
       "      <td>9</td>\n",
       "      <td>0.603270</td>\n",
       "      <td>10.999531</td>\n",
       "      <td>11.550799</td>\n",
       "    </tr>\n",
       "    <tr>\n",
       "      <th>0</th>\n",
       "      <td>Single Set Validation</td>\n",
       "      <td>1</td>\n",
       "      <td>0</td>\n",
       "      <td>22</td>\n",
       "      <td>0.720690</td>\n",
       "      <td>10.682589</td>\n",
       "      <td>11.753389</td>\n",
       "    </tr>\n",
       "    <tr>\n",
       "      <th>0</th>\n",
       "      <td>k-Fold Cross Validation</td>\n",
       "      <td>1</td>\n",
       "      <td>5</td>\n",
       "      <td>45</td>\n",
       "      <td>3.238729</td>\n",
       "      <td>10.299761</td>\n",
       "      <td>15.260511</td>\n",
       "    </tr>\n",
       "    <tr>\n",
       "      <th>0</th>\n",
       "      <td>k-Fold Cross Validation</td>\n",
       "      <td>1</td>\n",
       "      <td>5</td>\n",
       "      <td>110</td>\n",
       "      <td>4.042263</td>\n",
       "      <td>10.762809</td>\n",
       "      <td>11.277725</td>\n",
       "    </tr>\n",
       "    <tr>\n",
       "      <th>0</th>\n",
       "      <td>k-Fold Cross Validation</td>\n",
       "      <td>2</td>\n",
       "      <td>5</td>\n",
       "      <td>990</td>\n",
       "      <td>53.670445</td>\n",
       "      <td>9.154186</td>\n",
       "      <td>10.856284</td>\n",
       "    </tr>\n",
       "    <tr>\n",
       "      <th>0</th>\n",
       "      <td>Grid Search Cross Validation</td>\n",
       "      <td>2</td>\n",
       "      <td>5</td>\n",
       "      <td>990</td>\n",
       "      <td>43.621408</td>\n",
       "      <td>9.161189</td>\n",
       "      <td>7.573637</td>\n",
       "    </tr>\n",
       "  </tbody>\n",
       "</table>\n",
       "</div>"
      ],
      "text/plain": [
       "                         Method Hyperparameters Tuned # of CV folds  \\\n",
       "0         Single Set Validation                     1             0   \n",
       "0         Single Set Validation                     1             0   \n",
       "0       k-Fold Cross Validation                     1             5   \n",
       "0       k-Fold Cross Validation                     1             5   \n",
       "0       k-Fold Cross Validation                     2             5   \n",
       "0  Grid Search Cross Validation                     2             5   \n",
       "\n",
       "  Total iterations of Objective Fucntion  Duration (seconds)  \\\n",
       "0                                      9            0.603270   \n",
       "0                                     22            0.720690   \n",
       "0                                     45            3.238729   \n",
       "0                                    110            4.042263   \n",
       "0                                    990           53.670445   \n",
       "0                                    990           43.621408   \n",
       "\n",
       "   Best_validation_MSE   Test_MSE  \n",
       "0            10.999531  11.550799  \n",
       "0            10.682589  11.753389  \n",
       "0            10.299761  15.260511  \n",
       "0            10.762809  11.277725  \n",
       "0             9.154186  10.856284  \n",
       "0             9.161189   7.573637  "
      ]
     },
     "execution_count": 26,
     "metadata": {},
     "output_type": "execute_result"
    }
   ],
   "source": [
    "master_results = add_results(results_list, master_results)\n",
    "master_results"
   ]
  },
  {
   "cell_type": "markdown",
   "metadata": {},
   "source": [
    "You might notice a slight difference in test and validation MSE for the grid search algorithm. The reason for that is that the <i>best_estimator_</i> in the GridSearchCV algorithm is trained on the entire \"learning\" data set, while in our manual step, it was trained only on \"train\" data set which excludes the test and validation data. "
   ]
  },
  {
   "cell_type": "markdown",
   "metadata": {},
   "source": [
    "## Random Search\n",
    "Like Grid Search CV, <a href=\"http://www.jmlr.org/papers/volume13/bergstra12a/bergstra12a.pdf\">Random Search CV</a> also takes in a set of values for each hyperparameter you wish to tune. However, the major difference being that unlike GridSearchCV that exhaustively tries every combination of hyperparameter values, RandomSearchCV randomly selects values from the hyperparameter space you provided. \n",
    "\n",
    "While this random selection does not guarantee that the algorithm will select the best hyperparameters for your model, it does come with a significant boost in speed.  \n",
    "\n",
    "Furthermore, with the 9 different max_depths, and 22 unique min_samples_split sizes, we have 9x22 = 198 unique combinations of hyperparameters (the cartesian product of the two sets). However, the Random Search CV has a hyperparameter of its own called <b>\"n_iter\"</b> that allows us to dictate how many of 198 combinations should be randomly selected. We will set this value to 20 below, and have a 5-fold cross validation whihc result in 100 evaluations of our objective function."
   ]
  },
  {
   "cell_type": "code",
   "execution_count": 27,
   "metadata": {},
   "outputs": [
    {
     "data": {
      "text/plain": [
       "{'min_samples_split': 41, 'max_depth': 8}"
      ]
     },
     "execution_count": 27,
     "metadata": {},
     "output_type": "execute_result"
    }
   ],
   "source": [
    "parameters = {'max_depth':test_depths,\n",
    "              'min_samples_split':random_min_sample_splits}\n",
    "\n",
    "time_start = time.time()   \n",
    "\n",
    "randomCV_GBRegressor = GradientBoostingRegressor(random_state=1)\n",
    "reg2 = RandomizedSearchCV(randomCV_GBRegressor, param_distributions=parameters, scoring = 'neg_mean_squared_error',\n",
    "                          n_iter=20, cv=5, iid=False, random_state = 1)\n",
    "reg2.fit(X_learning, y_learning)\n",
    "\n",
    "time_end = time.time()   \n",
    "\n",
    "reg2.best_params_"
   ]
  },
  {
   "cell_type": "code",
   "execution_count": 28,
   "metadata": {},
   "outputs": [],
   "source": [
    "# Let's store the results\n",
    "method = \"Random Search Cross Validation\"\n",
    "hyperparameters_tuned = 2\n",
    "num_cv_folds = 5\n",
    "total_iters_obj = 20 * num_cv_folds\n",
    "duration = time_end - time_start\n",
    "best_validation_mse = -pd.DataFrame(reg2.cv_results_)[pd.DataFrame(reg2.cv_results_)['rank_test_score'] == 1][['mean_test_score']].values[0][0]\n",
    "test_mse = mean_squared_error(reg2.best_estimator_.predict(X_test), y_test)\n",
    "\n",
    "results_list = [[method, hyperparameters_tuned, num_cv_folds, total_iters_obj,\n",
    "                 duration, best_validation_mse, test_mse]]"
   ]
  },
  {
   "cell_type": "code",
   "execution_count": 29,
   "metadata": {},
   "outputs": [
    {
     "data": {
      "text/html": [
       "<div>\n",
       "<style scoped>\n",
       "    .dataframe tbody tr th:only-of-type {\n",
       "        vertical-align: middle;\n",
       "    }\n",
       "\n",
       "    .dataframe tbody tr th {\n",
       "        vertical-align: top;\n",
       "    }\n",
       "\n",
       "    .dataframe thead th {\n",
       "        text-align: right;\n",
       "    }\n",
       "</style>\n",
       "<table border=\"1\" class=\"dataframe\">\n",
       "  <thead>\n",
       "    <tr style=\"text-align: right;\">\n",
       "      <th></th>\n",
       "      <th>Method</th>\n",
       "      <th>Hyperparameters Tuned</th>\n",
       "      <th># of CV folds</th>\n",
       "      <th>Total iterations of Objective Fucntion</th>\n",
       "      <th>Duration (seconds)</th>\n",
       "      <th>Best_validation_MSE</th>\n",
       "      <th>Test_MSE</th>\n",
       "    </tr>\n",
       "  </thead>\n",
       "  <tbody>\n",
       "    <tr>\n",
       "      <th>0</th>\n",
       "      <td>Single Set Validation</td>\n",
       "      <td>1</td>\n",
       "      <td>0</td>\n",
       "      <td>9</td>\n",
       "      <td>0.603270</td>\n",
       "      <td>10.999531</td>\n",
       "      <td>11.550799</td>\n",
       "    </tr>\n",
       "    <tr>\n",
       "      <th>0</th>\n",
       "      <td>Single Set Validation</td>\n",
       "      <td>1</td>\n",
       "      <td>0</td>\n",
       "      <td>22</td>\n",
       "      <td>0.720690</td>\n",
       "      <td>10.682589</td>\n",
       "      <td>11.753389</td>\n",
       "    </tr>\n",
       "    <tr>\n",
       "      <th>0</th>\n",
       "      <td>k-Fold Cross Validation</td>\n",
       "      <td>1</td>\n",
       "      <td>5</td>\n",
       "      <td>45</td>\n",
       "      <td>3.238729</td>\n",
       "      <td>10.299761</td>\n",
       "      <td>15.260511</td>\n",
       "    </tr>\n",
       "    <tr>\n",
       "      <th>0</th>\n",
       "      <td>k-Fold Cross Validation</td>\n",
       "      <td>1</td>\n",
       "      <td>5</td>\n",
       "      <td>110</td>\n",
       "      <td>4.042263</td>\n",
       "      <td>10.762809</td>\n",
       "      <td>11.277725</td>\n",
       "    </tr>\n",
       "    <tr>\n",
       "      <th>0</th>\n",
       "      <td>k-Fold Cross Validation</td>\n",
       "      <td>2</td>\n",
       "      <td>5</td>\n",
       "      <td>990</td>\n",
       "      <td>53.670445</td>\n",
       "      <td>9.154186</td>\n",
       "      <td>10.856284</td>\n",
       "    </tr>\n",
       "    <tr>\n",
       "      <th>0</th>\n",
       "      <td>Grid Search Cross Validation</td>\n",
       "      <td>2</td>\n",
       "      <td>5</td>\n",
       "      <td>990</td>\n",
       "      <td>43.621408</td>\n",
       "      <td>9.161189</td>\n",
       "      <td>7.573637</td>\n",
       "    </tr>\n",
       "    <tr>\n",
       "      <th>0</th>\n",
       "      <td>Random Search Cross Validation</td>\n",
       "      <td>2</td>\n",
       "      <td>5</td>\n",
       "      <td>100</td>\n",
       "      <td>4.168085</td>\n",
       "      <td>9.599846</td>\n",
       "      <td>8.114522</td>\n",
       "    </tr>\n",
       "  </tbody>\n",
       "</table>\n",
       "</div>"
      ],
      "text/plain": [
       "                           Method Hyperparameters Tuned # of CV folds  \\\n",
       "0           Single Set Validation                     1             0   \n",
       "0           Single Set Validation                     1             0   \n",
       "0         k-Fold Cross Validation                     1             5   \n",
       "0         k-Fold Cross Validation                     1             5   \n",
       "0         k-Fold Cross Validation                     2             5   \n",
       "0    Grid Search Cross Validation                     2             5   \n",
       "0  Random Search Cross Validation                     2             5   \n",
       "\n",
       "  Total iterations of Objective Fucntion  Duration (seconds)  \\\n",
       "0                                      9            0.603270   \n",
       "0                                     22            0.720690   \n",
       "0                                     45            3.238729   \n",
       "0                                    110            4.042263   \n",
       "0                                    990           53.670445   \n",
       "0                                    990           43.621408   \n",
       "0                                    100            4.168085   \n",
       "\n",
       "   Best_validation_MSE   Test_MSE  \n",
       "0            10.999531  11.550799  \n",
       "0            10.682589  11.753389  \n",
       "0            10.299761  15.260511  \n",
       "0            10.762809  11.277725  \n",
       "0             9.154186  10.856284  \n",
       "0             9.161189   7.573637  \n",
       "0             9.599846   8.114522  "
      ]
     },
     "execution_count": 29,
     "metadata": {},
     "output_type": "execute_result"
    }
   ],
   "source": [
    "master_results = add_results(results_list, master_results)\n",
    "master_results"
   ]
  },
  {
   "cell_type": "markdown",
   "metadata": {},
   "source": [
    "As we can see, RandomSearch CV did not give us the lower validation or Test MSE. However, the time it was able to complete the task in a fifth of the time and provided a result that was decently comparable to GridSearch CV. "
   ]
  },
  {
   "cell_type": "markdown",
   "metadata": {},
   "source": [
    "# Sequential Model Based Optimization (SMBO)\n",
    "If you hadn't noticed already, all of the methods listed above had one thing in common; each of them ran independent experiments of training and evaluating a model for each combination of hyperparameter values. While the GridSearchCV and RandomSearchCV algorithms do help us narrow in on the best of hyperparameter values from the options they try, they fail to carry over any information from each iteration to the next.\n"
   ]
  },
  {
   "cell_type": "markdown",
   "metadata": {},
   "source": [
    "<center><img src=\"/img/blog/guide_hyperparameter_optimization/disadvantages_randomsearch.png\" width = 100%></center>\n",
    "  <center><font size=\"2\" color=\"#A9A9A9\"><strong> Fig 2: Validation Errors comparing random search and a model based approach on LFW (left) and PubFig83 (right) </strong></font></center>"
   ]
  },
  {
   "cell_type": "markdown",
   "metadata": {},
   "source": [
    "Consider the image above, which is taken from <a href = \"http://proceedings.mlr.press/v28/bergstra13.pdf\">Making a Science of Model Search: Hyperparameter Optimization in Hundreds of Dimensions for Vision Architectures.</a> These figures compare the validation error for hyperparameter optimization of an image classification neural network with random search in gray and an Sequential Model Based Optimization (SMBO) in green. The image clearly exhibits the prowess of the SMBO method. \n",
    "\n",
    "First, a smaller validation error is achieved, which signifies a better model, and second it does so in a smaller number of trials, hence saving time.\n",
    "\n",
    "This is fundamentally a big disadvantage of the isolated experimental based hyperparameter optimization techniques. Since GridSearchCV and RandomSearchCV are completely uninformed by their past evaluations, they often spend a significant amount of time evaluating \"bad\" hyperparameters."
   ]
  },
  {
   "cell_type": "markdown",
   "metadata": {},
   "source": [
    "## Bayesian Optimization"
   ]
  },
  {
   "cell_type": "markdown",
   "metadata": {},
   "source": [
    "In contrast to the experimental based techniques, <a href = \"https://app.sigopt.com/static/pdf/SigOpt_Bayesian_Optimization_Primer.pdf\">Bayesian optimization</a> is a sequential model based optimization technique for evaluating the best hyperparameters. The Bayesian approach keeps track of past evaluations results and uses it to build a probabilistic model mapping hyperparameters to a probability of a score on the objective function. \n",
    "\n",
    "$P(Score | Hyperparameters)$  \n",
    "\n",
    "Let's dive a little depper into the workings of the Bayesian approach. There are two definitions in particular that we need to be aware of with Bayesian optimization or any SMBO technique in general. "
   ]
  },
  {
   "cell_type": "markdown",
   "metadata": {},
   "source": [
    "### Surrogate Model\n",
    "Recollect that one of the challenges facing hyperparameter optimization is the duration it takes to evaluate the performance of a model due to the need to retrain and reevaluate the model for each combination of hyperparameter values. This process is what we have been referring to as our objective function.\n",
    "\n",
    "One of the big performance improvements in the Bayesian optimization comes as a result of adopting a Surrogate Model. The surrogate model is a probabilistic model that is much easier to evaluate than our true objective function and hence yields a solution in a drastically shorter duration of time.\n",
    "\n",
    "There are several surrogate models that you can choose from:\n",
    "<ul>\n",
    "<li> Gaussian Processes\n",
    "<li> Tree Parzen Estimators\n",
    "<li> Random Forest Regressors\n",
    "</ul>\n",
    "\n",
    "### Acquisition or Selection Function\n",
    "The Acquisition function helps select the next set of hyperparameter values to pass into the surrogate model. There are 3 acquisition functions that I have come across:\n",
    "<ul>\n",
    "<li> Upper Confidence Bound\n",
    "<li> Probability of Improvement\n",
    "<li> Expected Improvement (Most Common)\n",
    "</ul>\n",
    "\n",
    "### How does it work?\n",
    "With these two definitions under our belt, we are now ready to understand the process used in Bayesian Optimization.\n",
    "<ol>\n",
    "<li> Define a domain of hyperparameters over which to search (for example max_depth = [1,2,3,4,5] and min_samples_split = [2,3,4,5,6]).\n",
    "<li> Define an objective function which takes in hyperparameters as inputs, trains a machine learning model and outputs a score such as RMSE or Mean absolute error that we want to minimize (or maximize).\n",
    "<li> Define a surrogate probability model that aims to replicate the true objective function defined in step 2.\n",
    "<li> Define an Acquisition or Selection function for evaluating which hyperparameters perform best on the surrogate model defined in step 3.\n",
    "<li> Use the Acquisition function defined in step 4 to select the best performing hyperparamters.\n",
    "<li> Select the hypeparameters that perform best on the surrogate model and apply/pass them to the true objective function to get a score.\n",
    "<li> Use the score given hyperparameters (score | hyperparameter) from step 6 to update the surrogate model\n",
    "<li> Repeat steps 5,6 and 7 until you reach the maximum iterations or time.\n",
    "</ol>\n",
    "\n",
    "The main idea in the above process is to spend a little more time exploring potential hyperparameter values and spend a lot less time evaluating the true objective function. In practice, the extra time spent exploring is inconsequential to the time you would spend evaluating the objective function. Hence, the net effect is an algorithm that learns from every iteration, makes more informed decisions about which hyperparameter value(s) to try next and saves a lot of time that would have otherwise been wasted evaluating bad hyperparameters. \n",
    "\n",
    "### Visualizing Bayesian Optimization <br>\n",
    "\n",
    "<img src=\"/img/blog/guide_hyperparameter_optimization/bayes_optimization3.gif\" width = 100%>\n",
    "  <center><font size=\"2\" color=\"#A9A9A9\"><strong> Fig e: Bayesian Optimization </strong></font></center>\n",
    "\n"
   ]
  },
  {
   "cell_type": "markdown",
   "metadata": {},
   "source": [
    "### Example of Bayesian Optimization"
   ]
  },
  {
   "cell_type": "code",
   "execution_count": 30,
   "metadata": {},
   "outputs": [],
   "source": [
    "def objective_function(params):\n",
    "    \n",
    "    learning_rate = 10 ** params[0]\n",
    "    max_depth = params[1]\n",
    "    min_samples_split = params[2]\n",
    "    max_features = params[3]\n",
    "    \n",
    "    # Build Regressor\n",
    "    reg_model = GradientBoostingRegressor(\n",
    "                n_estimators = 50,\n",
    "                learning_rate = learning_rate,\n",
    "                max_depth = max_depth,\n",
    "                min_samples_split = min_samples_split,\n",
    "                max_features = max_features,\n",
    "                random_state = 1)\n",
    "    \n",
    "    avg_cross_val_score = -np.mean(cross_val_score(reg_model, X_learning, y_learning, cv = 5, n_jobs = -1,\n",
    "                                                   scoring = 'neg_mean_squared_error'))\n",
    "    \n",
    "    return avg_cross_val_score"
   ]
  },
  {
   "cell_type": "code",
   "execution_count": 31,
   "metadata": {},
   "outputs": [],
   "source": [
    "param_space = [(-5.0, 0.0),     #learning_rate\n",
    "               (1, 10),          #max_depth\n",
    "               (2, 100),        #min_samples_split\n",
    "               (1, X.shape[1])] #max_features\n",
    "\n",
    "time_start = time.time()\n",
    "r = gp_minimize(objective_function, param_space, n_calls = 100, random_state = 1)\n",
    "time_end = time.time()"
   ]
  },
  {
   "cell_type": "code",
   "execution_count": 32,
   "metadata": {},
   "outputs": [],
   "source": [
    "updated_bayes_model = GradientBoostingRegressor(\n",
    "                n_estimators = 50,\n",
    "                learning_rate = 10**(r.x[0]),\n",
    "                max_depth = r.x[1],\n",
    "                min_samples_split = r.x[2],\n",
    "                max_features = r.x[3],\n",
    "                random_state = 1)\n",
    "    \n",
    "\n",
    "updated_bayes_model.fit(X_learning, y_learning)\n",
    "updated_bayes_model_prediction_test_y = updated_bayes_model.predict(X_test)"
   ]
  },
  {
   "cell_type": "code",
   "execution_count": 33,
   "metadata": {},
   "outputs": [],
   "source": [
    "# Let's store the results\n",
    "method = \"Bayesian\"\n",
    "hyperparameters_tuned = 5\n",
    "num_cv_folds = 5\n",
    "total_iters_obj = 100 * num_cv_folds\n",
    "duration = time_end - time_start\n",
    "best_validation_mse = r.fun\n",
    "test_mse = mean_squared_error(updated_bayes_model_prediction_test_y, y_test)\n",
    "\n",
    "results_list = [[method, hyperparameters_tuned, num_cv_folds, total_iters_obj,\n",
    "                 duration, best_validation_mse, test_mse]]"
   ]
  },
  {
   "cell_type": "code",
   "execution_count": 34,
   "metadata": {},
   "outputs": [
    {
     "data": {
      "text/html": [
       "<div>\n",
       "<style scoped>\n",
       "    .dataframe tbody tr th:only-of-type {\n",
       "        vertical-align: middle;\n",
       "    }\n",
       "\n",
       "    .dataframe tbody tr th {\n",
       "        vertical-align: top;\n",
       "    }\n",
       "\n",
       "    .dataframe thead th {\n",
       "        text-align: right;\n",
       "    }\n",
       "</style>\n",
       "<table border=\"1\" class=\"dataframe\">\n",
       "  <thead>\n",
       "    <tr style=\"text-align: right;\">\n",
       "      <th></th>\n",
       "      <th>Method</th>\n",
       "      <th>Hyperparameters Tuned</th>\n",
       "      <th># of CV folds</th>\n",
       "      <th>Total iterations of Objective Fucntion</th>\n",
       "      <th>Duration (seconds)</th>\n",
       "      <th>Best_validation_MSE</th>\n",
       "      <th>Test_MSE</th>\n",
       "    </tr>\n",
       "  </thead>\n",
       "  <tbody>\n",
       "    <tr>\n",
       "      <th>0</th>\n",
       "      <td>Single Set Validation</td>\n",
       "      <td>1</td>\n",
       "      <td>0</td>\n",
       "      <td>9</td>\n",
       "      <td>0.603270</td>\n",
       "      <td>10.999531</td>\n",
       "      <td>11.550799</td>\n",
       "    </tr>\n",
       "    <tr>\n",
       "      <th>0</th>\n",
       "      <td>Single Set Validation</td>\n",
       "      <td>1</td>\n",
       "      <td>0</td>\n",
       "      <td>22</td>\n",
       "      <td>0.720690</td>\n",
       "      <td>10.682589</td>\n",
       "      <td>11.753389</td>\n",
       "    </tr>\n",
       "    <tr>\n",
       "      <th>0</th>\n",
       "      <td>k-Fold Cross Validation</td>\n",
       "      <td>1</td>\n",
       "      <td>5</td>\n",
       "      <td>45</td>\n",
       "      <td>3.238729</td>\n",
       "      <td>10.299761</td>\n",
       "      <td>15.260511</td>\n",
       "    </tr>\n",
       "    <tr>\n",
       "      <th>0</th>\n",
       "      <td>k-Fold Cross Validation</td>\n",
       "      <td>1</td>\n",
       "      <td>5</td>\n",
       "      <td>110</td>\n",
       "      <td>4.042263</td>\n",
       "      <td>10.762809</td>\n",
       "      <td>11.277725</td>\n",
       "    </tr>\n",
       "    <tr>\n",
       "      <th>0</th>\n",
       "      <td>k-Fold Cross Validation</td>\n",
       "      <td>2</td>\n",
       "      <td>5</td>\n",
       "      <td>990</td>\n",
       "      <td>53.670445</td>\n",
       "      <td>9.154186</td>\n",
       "      <td>10.856284</td>\n",
       "    </tr>\n",
       "    <tr>\n",
       "      <th>0</th>\n",
       "      <td>Grid Search Cross Validation</td>\n",
       "      <td>2</td>\n",
       "      <td>5</td>\n",
       "      <td>990</td>\n",
       "      <td>43.621408</td>\n",
       "      <td>9.161189</td>\n",
       "      <td>7.573637</td>\n",
       "    </tr>\n",
       "    <tr>\n",
       "      <th>0</th>\n",
       "      <td>Random Search Cross Validation</td>\n",
       "      <td>2</td>\n",
       "      <td>5</td>\n",
       "      <td>100</td>\n",
       "      <td>4.168085</td>\n",
       "      <td>9.599846</td>\n",
       "      <td>8.114522</td>\n",
       "    </tr>\n",
       "    <tr>\n",
       "      <th>0</th>\n",
       "      <td>Bayesian</td>\n",
       "      <td>5</td>\n",
       "      <td>5</td>\n",
       "      <td>500</td>\n",
       "      <td>89.834803</td>\n",
       "      <td>9.065890</td>\n",
       "      <td>7.706592</td>\n",
       "    </tr>\n",
       "  </tbody>\n",
       "</table>\n",
       "</div>"
      ],
      "text/plain": [
       "                           Method Hyperparameters Tuned # of CV folds  \\\n",
       "0           Single Set Validation                     1             0   \n",
       "0           Single Set Validation                     1             0   \n",
       "0         k-Fold Cross Validation                     1             5   \n",
       "0         k-Fold Cross Validation                     1             5   \n",
       "0         k-Fold Cross Validation                     2             5   \n",
       "0    Grid Search Cross Validation                     2             5   \n",
       "0  Random Search Cross Validation                     2             5   \n",
       "0                        Bayesian                     5             5   \n",
       "\n",
       "  Total iterations of Objective Fucntion  Duration (seconds)  \\\n",
       "0                                      9            0.603270   \n",
       "0                                     22            0.720690   \n",
       "0                                     45            3.238729   \n",
       "0                                    110            4.042263   \n",
       "0                                    990           53.670445   \n",
       "0                                    990           43.621408   \n",
       "0                                    100            4.168085   \n",
       "0                                    500           89.834803   \n",
       "\n",
       "   Best_validation_MSE   Test_MSE  \n",
       "0            10.999531  11.550799  \n",
       "0            10.682589  11.753389  \n",
       "0            10.299761  15.260511  \n",
       "0            10.762809  11.277725  \n",
       "0             9.154186  10.856284  \n",
       "0             9.161189   7.573637  \n",
       "0             9.599846   8.114522  \n",
       "0             9.065890   7.706592  "
      ]
     },
     "execution_count": 34,
     "metadata": {},
     "output_type": "execute_result"
    }
   ],
   "source": [
    "master_results = add_results(results_list, master_results)\n",
    "master_results"
   ]
  }
 ],
 "metadata": {
  "kernelspec": {
   "display_name": "Python 3",
   "language": "python",
   "name": "python3"
  },
  "language_info": {
   "codemirror_mode": {
    "name": "ipython",
    "version": 3
   },
   "file_extension": ".py",
   "mimetype": "text/x-python",
   "name": "python",
   "nbconvert_exporter": "python",
   "pygments_lexer": "ipython3",
   "version": "3.7.3"
  },
  "toc": {
   "base_numbering": 1,
   "nav_menu": {},
   "number_sections": false,
   "sideBar": false,
   "skip_h1_title": false,
   "title_cell": "Table of Contents",
   "title_sidebar": "Contents",
   "toc_cell": true,
   "toc_position": {},
   "toc_section_display": true,
   "toc_window_display": false
  }
 },
 "nbformat": 4,
 "nbformat_minor": 2
}
